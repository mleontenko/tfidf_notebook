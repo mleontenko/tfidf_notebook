{
 "cells": [
  {
   "cell_type": "markdown",
   "id": "49586f45",
   "metadata": {},
   "source": [
    "Import modules"
   ]
  },
  {
   "cell_type": "code",
   "execution_count": 1,
   "id": "f7962293",
   "metadata": {},
   "outputs": [],
   "source": [
    "import os"
   ]
  },
  {
   "cell_type": "markdown",
   "id": "d2472efe",
   "metadata": {},
   "source": [
    "Index dataset"
   ]
  },
  {
   "cell_type": "code",
   "execution_count": 2,
   "id": "8ef6b3b5",
   "metadata": {},
   "outputs": [],
   "source": [
    "rootdir = '20news-bydate-train'\n",
    "dataset = []\n",
    "# index dataset\n",
    "for subdir, dirs, files in os.walk(rootdir):\n",
    "    for file in files:\n",
    "        dataset.append((subdir+'\\\\'+file, file))"
   ]
  }
 ],
 "metadata": {
  "kernelspec": {
   "display_name": "Python 3 (ipykernel)",
   "language": "python",
   "name": "python3"
  },
  "language_info": {
   "codemirror_mode": {
    "name": "ipython",
    "version": 3
   },
   "file_extension": ".py",
   "mimetype": "text/x-python",
   "name": "python",
   "nbconvert_exporter": "python",
   "pygments_lexer": "ipython3",
   "version": "3.8.3"
  }
 },
 "nbformat": 4,
 "nbformat_minor": 5
}
